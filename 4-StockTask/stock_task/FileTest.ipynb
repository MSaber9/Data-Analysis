{
 "cells": [
  {
   "cell_type": "code",
   "execution_count": 1,
   "metadata": {
    "collapsed": true
   },
   "outputs": [],
   "source": [
    "%matplotlib inline\n",
    "\n",
    "import datetime as dt\n",
    "import numpy as np\n",
    "from scipy.stats import truncnorm\n",
    "import matplotlib.pyplot as plt\n",
    "import matplotlib.image as mimg\n",
    "from matplotlib import style\n",
    "import pandas as pd\n",
    "import pandas_datareader.data as web \n"
   ]
  },
  {
   "cell_type": "code",
   "execution_count": 17,
   "metadata": {},
   "outputs": [
    {
     "data": {
      "text/html": [
       "<div>\n",
       "<style>\n",
       "    .dataframe thead tr:only-child th {\n",
       "        text-align: right;\n",
       "    }\n",
       "\n",
       "    .dataframe thead th {\n",
       "        text-align: left;\n",
       "    }\n",
       "\n",
       "    .dataframe tbody tr th {\n",
       "        vertical-align: top;\n",
       "    }\n",
       "</style>\n",
       "<table border=\"1\" class=\"dataframe\">\n",
       "  <thead>\n",
       "    <tr style=\"text-align: right;\">\n",
       "      <th></th>\n",
       "      <th>Period</th>\n",
       "      <th>Start Price</th>\n",
       "      <th>Stock Volatility</th>\n",
       "      <th>Days</th>\n",
       "    </tr>\n",
       "  </thead>\n",
       "  <tbody>\n",
       "    <tr>\n",
       "      <th>2015-09-05</th>\n",
       "      <td>1.682304</td>\n",
       "      <td>-1.025107</td>\n",
       "      <td>0.701511</td>\n",
       "      <td>Mon</td>\n",
       "    </tr>\n",
       "    <tr>\n",
       "      <th>2015-09-06</th>\n",
       "      <td>-0.237086</td>\n",
       "      <td>0.791950</td>\n",
       "      <td>-1.372079</td>\n",
       "      <td>Tue</td>\n",
       "    </tr>\n",
       "    <tr>\n",
       "      <th>2015-09-07</th>\n",
       "      <td>-0.894123</td>\n",
       "      <td>-1.665492</td>\n",
       "      <td>0.896536</td>\n",
       "      <td>Wen</td>\n",
       "    </tr>\n",
       "    <tr>\n",
       "      <th>2015-09-08</th>\n",
       "      <td>0.248255</td>\n",
       "      <td>0.465406</td>\n",
       "      <td>0.634212</td>\n",
       "      <td>The</td>\n",
       "    </tr>\n",
       "    <tr>\n",
       "      <th>2015-09-09</th>\n",
       "      <td>-0.004320</td>\n",
       "      <td>-0.421245</td>\n",
       "      <td>-1.244187</td>\n",
       "      <td>Fri</td>\n",
       "    </tr>\n",
       "  </tbody>\n",
       "</table>\n",
       "</div>"
      ],
      "text/plain": [
       "              Period  Start Price  Stock Volatility Days\n",
       "2015-09-05  1.682304    -1.025107          0.701511  Mon\n",
       "2015-09-06 -0.237086     0.791950         -1.372079  Tue\n",
       "2015-09-07 -0.894123    -1.665492          0.896536  Wen\n",
       "2015-09-08  0.248255     0.465406          0.634212  The\n",
       "2015-09-09 -0.004320    -0.421245         -1.244187  Fri"
      ]
     },
     "execution_count": 17,
     "metadata": {},
     "output_type": "execute_result"
    }
   ],
   "source": [
    "#start date, datetime\n",
    "#period, days\n",
    "#start price, rubles\n",
    "#stock volatility ( from (0,1) ). Stock price variability over time, float\n",
    "\n",
    "#Create Random Varible \n",
    "dates = pd.date_range('20150905',periods=5)\n",
    "df = pd.DataFrame(np.random.randn(5,3),index=dates,columns=list('BCD'))\n",
    "\n",
    "df['Days'] = ['Mon','Tue','Wen','The','Fri']\n",
    "\n",
    "df.rename(columns={ \n",
    "                   'B': 'Period',\n",
    "                   'C': 'Start Price',\n",
    "                   'D': 'Stock Volatility'\n",
    "                    }, inplace=True)\n",
    "df"
   ]
  },
  {
   "cell_type": "code",
   "execution_count": null,
   "metadata": {
    "collapsed": true
   },
   "outputs": [],
   "source": [
    "df['Period'] = np.random.randint(100,1000, size=len(df))\n",
    "df"
   ]
  },
  {
   "cell_type": "code",
   "execution_count": null,
   "metadata": {
    "collapsed": true
   },
   "outputs": [],
   "source": [
    "value = 100\n",
    "pn = []\n",
    "    for i in range(value)\n",
    "    #pn[] = pn.append(i)\n",
    "    print i"
   ]
  },
  {
   "cell_type": "code",
   "execution_count": null,
   "metadata": {
    "collapsed": true
   },
   "outputs": [],
   "source": [
    "import random\n",
    "\n",
    "lst = [1970, 1991, 2012]\n",
    "random.shuffle(lst)\n",
    "   for x in lst:\n",
    "    print x"
   ]
  },
  {
   "cell_type": "code",
   "execution_count": null,
   "metadata": {
    "collapsed": true
   },
   "outputs": [],
   "source": [
    "all_values = []\n",
    "for n in range(0,29):\n",
    "    condition = (df[0]>0) & (df[n]==0)\n",
    "    count = condition.sum()\n",
    "    vals = df[condition][0].values\n",
    "    all_values.append(vals)\n",
    "\n",
    "all_values_df = pd.DataFrame(all_values).transpose()\n"
   ]
  },
  {
   "cell_type": "code",
   "execution_count": 12,
   "metadata": {},
   "outputs": [
    {
     "data": {
      "text/plain": [
       "[<matplotlib.lines.Line2D at 0x1ef0f38d710>]"
      ]
     },
     "execution_count": 12,
     "metadata": {},
     "output_type": "execute_result"
    },
    {
     "data": {
      "image/png": "[encoded data removed]",
      "text/plain": [
       "<matplotlib.figure.Figure at 0x1ef0dfbb3c8>"
      ]
     },
     "metadata": {},
     "output_type": "display_data"
    }
   ],
   "source": [
    "value = 10\n",
    "ps = [value]\n",
    "for i in range (100):\n",
    "    value += np.random.normal(0.1)\n",
    "    ps.append (value)\n",
    "\n",
    "plt.plot(np.arange(len(ps)),ps)"
   ]
  },
  {
   "cell_type": "code",
   "execution_count": 9,
   "metadata": {},
   "outputs": [
    {
     "name": "stdout",
     "output_type": "stream",
     "text": [
      "First:  1\n",
      "Second:  2\n",
      "Third: 3\n",
      "And all the rest...  [4, 5, 6]\n"
     ]
    }
   ],
   "source": [
    "def foo(first, second, third, *therest):\n",
    "    print(\"First: \" , (first))\n",
    "    print(\"Second: \" , (second))\n",
    "    print(\"Third:\" , (third))\n",
    "    print(\"And all the rest... \" , (list(therest)))\n",
    "foo(1,2,3,4,5,6)\n"
   ]
  },
  {
   "cell_type": "code",
   "execution_count": null,
   "metadata": {
    "collapsed": true
   },
   "outputs": [],
   "source": [
    "class myData():\n",
    "       def price (volatility):\n",
    "        value = volatility\n",
    "        value = 10\n",
    "        ps = [value]\n",
    "        for i in range(100):\n",
    "            value += np.random.normal(0.1)\n",
    "            \n",
    "            ps.append(value)\n",
    "        plt.plot(np.arange(len(ps)), ps) \n",
    "    \n",
    "        print(\"Stock Volatility : \", (volatility))\n",
    "        \n",
    "myData.price(10)  "
   ]
  },
  {
   "cell_type": "code",
   "execution_count": null,
   "metadata": {
    "collapsed": true
   },
   "outputs": [],
   "source": [
    "import math\n",
    "def normpdf(x, mean, sd):\n",
    "    price = [x]    \n",
    "    for i in range(100):   \n",
    "        var = float(sd)**2\n",
    "        pi = 3.1415926\n",
    "        denom += (2*pi*var)**.5\n",
    "        num += math.exp(-(float(x)-float(mean))**2/(2*var))\n",
    "        result = num/denom\n",
    "        \n",
    "        price.append(result)\n",
    "        print(price)\n",
    "        #plt.plot(np.arange(len(price)), price)    \n",
    "\n",
    "normpdf(7,5,5)"
   ]
  },
  {
   "cell_type": "code",
   "execution_count": null,
   "metadata": {
    "collapsed": true
   },
   "outputs": [],
   "source": [
    "   "
   ]
  },
  {
   "cell_type": "code",
   "execution_count": 7,
   "metadata": {},
   "outputs": [
    {
     "name": "stdout",
     "output_type": "stream",
     "text": [
      "Stock Volatility :  10\n"
     ]
    },
    {
     "data": {
      "image/png": "[encoded data removed]",
      "text/plain": [
       "<matplotlib.figure.Figure at 0x17c1bde1c50>"
      ]
     },
     "metadata": {},
     "output_type": "display_data"
    }
   ],
   "source": [
    "class myData():\n",
    "       def price (volatility):\n",
    "        value = volatility\n",
    "        value = 10\n",
    "        ps = [value]\n",
    "        for i in range(100):\n",
    "            value += np.random.normal(0.1)\n",
    "            ps.append(value)\n",
    "        plt.plot(np.arange(len(ps)), ps) \n",
    "        print(\"Stock Volatility : \", (volatility))\n",
    "        \n",
    "myData.price(10) "
   ]
  },
  {
   "cell_type": "code",
   "execution_count": 14,
   "metadata": {},
   "outputs": [
    {
     "name": "stdout",
     "output_type": "stream",
     "text": [
      "Stock Volatility :  [10, 9.709006391581058, 10.96334372990697, 9.426504837300257, 8.62845841624503, 7.792746690989516, 7.835030725150936, 8.032654567580671, 8.533278315866898, 8.49719564205803, 8.637891122364623]\n"
     ]
    },
    {
     "data": {
      "image/png": "[encoded data removed]",
      "text/plain": [
       "<matplotlib.figure.Figure at 0x17c1c36a320>"
      ]
     },
     "metadata": {},
     "output_type": "display_data"
    }
   ],
   "source": [
    "import numpy as np\n",
    "class myData():\n",
    "       def price (volatility):\n",
    "        value = volatility\n",
    "        value = 10\n",
    "        ps = [value]\n",
    "        for i in range(10):\n",
    "            value += np.random.normal(0.1)\n",
    "            ps.append(value)\n",
    "        plt.plot(np.arange(len(ps)), ps) \n",
    "        print(\"Stock Volatility : \", (ps))\n",
    "        \n",
    "myData.price(10) "
   ]
  },
  {
   "cell_type": "code",
   "execution_count": 15,
   "metadata": {},
   "outputs": [
    {
     "name": "stdout",
     "output_type": "stream",
     "text": [
      "Stock Volatility :  [10, 10.512464087944718, 9.468946902298317, 9.106090075217082, 8.906022768931154, 6.496972753720082, 7.3295750754185285, 7.18516573784161, 5.750103117909454, 5.977706602124782, 5.9516058565907315, 6.309481489151274, 8.866995772407378, 7.903852254676106, 10.462550873728276, 11.771135718787118, 11.022527042114639, 12.755439038188223, 11.292250109846893, 10.876391406801575, 11.609869065280702, 11.050820386062943]\n"
     ]
    },
    {
     "data": {
      "image/png": "[encoded data removed]",
      "text/plain": [
       "<matplotlib.figure.Figure at 0x17c1c1d0208>"
      ]
     },
     "metadata": {},
     "output_type": "display_data"
    }
   ],
   "source": [
    "import numpy as np\n",
    "class myData():\n",
    "    \n",
    "       def price (volatility):\n",
    "        value = volatility\n",
    "        value = 10\n",
    "        ps = [value]\n",
    "        for i in range(21):\n",
    "            value += np.random.normal(0.1)\n",
    "            ps.append(value)\n",
    "        plt.plot(np.arange(len(ps)), ps) \n",
    "        print(\"Stock Volatility : \", (ps))\n",
    "        \n",
    "myData.price(10) "
   ]
  },
  {
   "cell_type": "code",
   "execution_count": null,
   "metadata": {},
   "outputs": [],
   "source": [
    "  "
   ]
  },
  {
   "cell_type": "code",
   "execution_count": null,
   "metadata": {
    "collapsed": true
   },
   "outputs": [],
   "source": []
  }
 ],
 "metadata": {
  "kernelspec": {
   "display_name": "Python 3",
   "language": "python",
   "name": "python3"
  },
  "language_info": {
   "codemirror_mode": {
    "name": "ipython",
    "version": 3
   },
   "file_extension": ".py",
   "mimetype": "text/x-python",
   "name": "python",
   "nbconvert_exporter": "python",
   "pygments_lexer": "ipython3",
   "version": "3.6.2"
  }
 },
 "nbformat": 4,
 "nbformat_minor": 2
}
