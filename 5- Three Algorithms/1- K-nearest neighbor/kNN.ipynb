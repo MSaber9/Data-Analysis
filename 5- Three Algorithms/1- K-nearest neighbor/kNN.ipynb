{
 "cells": [
  {
   "cell_type": "code",
   "execution_count": 92,
   "metadata": {
    "collapsed": true
   },
   "outputs": [],
   "source": [
    "from scipy import *\n",
    "from numpy import *\n",
    "import operator\n",
    "from os import listdir\n",
    "from array import array"
   ]
  },
  {
   "cell_type": "code",
   "execution_count": null,
   "metadata": {
    "collapsed": true
   },
   "outputs": [],
   "source": []
  },
  {
   "cell_type": "code",
   "execution_count": 93,
   "metadata": {
    "collapsed": true
   },
   "outputs": [],
   "source": [
    "def createDataSet():\n",
    "        group = array([[1.0,1.1],[1.0,1.0],[0,0],[0,0.1]])\n",
    "        labels = ['A','A','B','B']\n",
    "        return group, labels\n",
    "\n",
    "def classify0(inX, dataSet, labels, k):\n",
    "\n",
    "        # Distance Calculation\n",
    "        dataSetSize = dataSet.shape[0]\n",
    "\n",
    "        diffMat = tile(inX, (dataSetSize,1)) - dataSet\n",
    "\n",
    "        sqDiffMat = diffMat**2\n",
    "        sqDistances = sqDiffMat.sum(axis=1)\n",
    "        distances = sqDistances**0.5\n",
    "        sortedDistIndicies = distances.argsort()     \n",
    "        classCount={}    \n",
    "\n",
    "        # Vointing with lowest K Distance \n",
    "        for i in range(k):\n",
    "            voteIlabel = labels[sortedDistIndicies[i]]\n",
    "            classCount[voteIlabel] = classCount.get(voteIlabel,0) + 1\n",
    "\n",
    "        # Sort Dictionary     \n",
    "        sortedClassCount = sorted(classCount.iteritems(), key=operator.itemgetter(1), reverse=True)\n",
    "\n",
    "        return sortedClassCount[0][0]"
   ]
  },
  {
   "cell_type": "code",
   "execution_count": null,
   "metadata": {},
   "outputs": [],
   "source": [
    "import kNN\n",
    "group, labels = kNN.createDataSet()\n",
    "print = kNN.classify0([1.0,1.1], group , labels, 3)"
   ]
  },
  {
   "cell_type": "code",
   "execution_count": null,
   "metadata": {
    "collapsed": true
   },
   "outputs": [],
   "source": []
  },
  {
   "cell_type": "code",
   "execution_count": 100,
   "metadata": {},
   "outputs": [
    {
     "name": "stderr",
     "output_type": "stream",
     "text": [
      "C:\\Users\\msabe\\Anaconda3\\lib\\site-packages\\sklearn\\cross_validation.py:41: DeprecationWarning: This module was deprecated in version 0.18 in favor of the model_selection module into which all the refactored classes and functions are moved. Also note that the interface of the new CV iterators are different from that of this module. This module will be removed in 0.20.\n",
      "  \"This module will be removed in 0.20.\", DeprecationWarning)\n"
     ]
    },
    {
     "data": {
      "image/png": "[encoded data removed]",
      "text/plain": [
       "<matplotlib.figure.Figure at 0x1fbc41489b0>"
      ]
     },
     "metadata": {},
     "output_type": "display_data"
    }
   ],
   "source": [
    "from sklearn import datasets\n",
    "from sklearn.cross_validation import train_test_split\n",
    "\n",
    "from sklearn.preprocessing import StandardScaler\n",
    "from sklearn.neighbors import KNeighborsClassifier\n",
    "\n",
    "import numpy as np\n",
    "import matplotlib.pyplot as plt\n",
    "from matplotlib.colors import ListedColormap\n",
    "\n",
    "def plot_decision_regions(X, y, classifier, test_idx=None, resolution=0.02):\n",
    "   # setup marker generator and color map\n",
    "   markers = ('s', 'x', 'o', '^', 'v')\n",
    "   colors = ('red', 'blue', 'lightgreen', 'gray', 'cyan')\n",
    "   cmap = ListedColormap(colors[:len(np.unique(y))])\n",
    "\n",
    "   # plot the decision surface\n",
    "   x1_min, x1_max = X[:, 0].min() - 1, X[:, 0].max() + 1\n",
    "   x2_min, x2_max = X[:, 1].min() - 1, X[:, 1].max() + 1\n",
    "   xx1, xx2 = np.meshgrid(np.arange(x1_min, x1_max, resolution),\n",
    "   np.arange(x2_min, x2_max, resolution))\n",
    "   Z = classifier.predict(np.array([xx1.ravel(), xx2.ravel()]).T)\n",
    "   Z = Z.reshape(xx1.shape)\n",
    "   plt.contourf(xx1, xx2, Z, alpha=0.4, cmap=cmap)\n",
    "   plt.xlim(xx1.min(), xx1.max())\n",
    "   plt.ylim(xx2.min(), xx2.max())\n",
    "\n",
    "   # plot all samples\n",
    "   X_test, y_test = X[test_idx, :], y[test_idx]\n",
    "   for idx, cl in enumerate(np.unique(y)):\n",
    "      plt.scatter(x=X[y == cl, 0], y=X[y == cl, 1],\n",
    "               alpha=0.8, c=cmap(idx),\n",
    "               marker=markers[idx], label=cl)\n",
    "   # highlight test samples\n",
    "   if test_idx:\n",
    "      X_test, y_test = X[test_idx, :], y[test_idx]\n",
    "      plt.scatter(X_test[:, 0], X_test[:, 1], c='',\n",
    "               alpha=1.0, linewidth=1, marker='o',\n",
    "               s=55, label='test set')\n",
    "\n",
    "iris = datasets.load_iris()\n",
    "X = iris.data[:, [2, 3]]\n",
    "y = iris.target\n",
    "\n",
    "X_train, X_test, y_train, y_test = train_test_split(X, y, test_size=0.3, random_state=0)\n",
    "\n",
    "sc = StandardScaler()\n",
    "X_train_std = sc.fit_transform(X_train)\n",
    "X_test_std = sc.fit_transform(X_test)\n",
    "\n",
    "X_combined_std = np.vstack((X_train_std, X_test_std))\n",
    "y_combined = np.hstack((y_train, y_test))\n",
    "\n",
    "knn = KNeighborsClassifier(n_neighbors=5, p=2, metric='minkowski')\n",
    "knn.fit(X_train_std, y_train)\n",
    "\n",
    "plot_decision_regions(X_combined_std, y_combined,classifier=knn, test_idx=range(105,150))\n",
    "\n",
    "plt.xlabel('petal length [cm]')\n",
    "plt.ylabel('petal width [cm]')\n",
    "plt.legend(loc='upper left')\n",
    "plt.show()"
   ]
  },
  {
   "cell_type": "code",
   "execution_count": null,
   "metadata": {
    "collapsed": true
   },
   "outputs": [],
   "source": []
  },
  {
   "cell_type": "code",
   "execution_count": null,
   "metadata": {
    "collapsed": true
   },
   "outputs": [],
   "source": []
  }
 ],
 "metadata": {
  "kernelspec": {
   "display_name": "Python 3",
   "language": "python",
   "name": "python3"
  },
  "language_info": {
   "codemirror_mode": {
    "name": "ipython",
    "version": 3
   },
   "file_extension": ".py",
   "mimetype": "text/x-python",
   "name": "python",
   "nbconvert_exporter": "python",
   "pygments_lexer": "ipython3",
   "version": "3.6.2"
  }
 },
 "nbformat": 4,
 "nbformat_minor": 2
}
