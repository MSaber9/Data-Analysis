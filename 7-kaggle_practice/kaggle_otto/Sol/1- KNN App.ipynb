{
 "cells": [
  {
   "cell_type": "markdown",
   "metadata": {},
   "source": [
    "# k-Nearest Neighbors"
   ]
  },
  {
   "cell_type": "code",
   "execution_count": 25,
   "metadata": {},
   "outputs": [],
   "source": [
    "import numpy as np\n",
    "import pandas as pd\n",
    "from sklearn import preprocessing, cross_validation, neighbors\n",
    "from sklearn.neighbors import KNeighborsClassifier\n",
    "\n",
    "from sklearn.metrics import mean_squared_error,r2_score\n",
    "from sklearn.metrics import accuracy_score"
   ]
  },
  {
   "cell_type": "markdown",
   "metadata": {},
   "source": [
    "# Manipulate Data Train "
   ]
  },
  {
   "cell_type": "code",
   "execution_count": 39,
   "metadata": {},
   "outputs": [
    {
     "name": "stdout",
     "output_type": "stream",
     "text": [
      "(1460, 37)\n"
     ]
    }
   ],
   "source": [
    "train = pd.read_csv(\"D:/Master ML/1-First Semester/4- Data Analysis Tools/7-kaggle_practice/kaggle_practice/train.csv\")\n",
    "\n",
    "train.drop (['MSZoning' , 'Street' , 'Alley', 'LotShape', 'LandContour' , 'Utilities' , 'LotConfig' , 'LandSlope' , 'Neighborhood',\n",
    "            'Condition1' , 'Condition2', 'BldgType' , 'HouseStyle' , 'RoofStyle' , 'RoofMatl' , 'Exterior1st',\n",
    "             'Exterior2nd' , 'MasVnrType' , 'ExterQual' , 'ExterCond' , 'Foundation' , 'BsmtQual' , 'BsmtCond' ,\n",
    "             'BsmtExposure' , 'BsmtFinType1' , 'BsmtFinType2' , 'Heating' , 'HeatingQC' , 'CentralAir' , 'Electrical' ,\n",
    "             'KitchenQual' , 'Functional' , 'FireplaceQu' , 'GarageType' , 'GarageFinish' , 'GarageQual' , 'GarageCond' , \n",
    "             'PavedDrive' , 'PoolQC' , 'Fence' , 'MiscFeature' , 'SaleCondition','Id','SaleType'\n",
    "            ] , 1 , inplace = True)\n",
    "\n",
    "train = train.replace(0, np.NaN)     # mark zero values as missing or NaN\n",
    "train.fillna(0, inplace=True)\n",
    "#train.dropna(inplace=True)    # mark zero values as missing or NaN  .fillna(0) - df.fillna(0)\n",
    "print(train.shape)                # summarize the number of rows and columns in the dataset\n",
    "\n",
    "train.columns = train.columns.str.lower()  # Solving Error : DataFrame' object has no attribute 'to_numeric\n",
    "\n",
    "train.replace('NA', -99999 , inplace =True)\n",
    "#train.drop (['Id'] , 1 , inplace = True)"
   ]
  },
  {
   "cell_type": "markdown",
   "metadata": {},
   "source": [
    "# Manipulate Data Test"
   ]
  },
  {
   "cell_type": "code",
   "execution_count": 40,
   "metadata": {},
   "outputs": [
    {
     "name": "stdout",
     "output_type": "stream",
     "text": [
      "(1459, 36)\n"
     ]
    }
   ],
   "source": [
    "test = pd.read_csv(\"D:/Master ML/1-First Semester/4- Data Analysis Tools/7-kaggle_practice/kaggle_practice/test.csv\")\n",
    "\n",
    "test.drop (['MSZoning' , 'Street' , 'Alley', 'LotShape', 'LandContour' , 'Utilities' , 'LotConfig' , 'LandSlope' , 'Neighborhood',\n",
    "            'Condition1' , 'Condition2', 'BldgType' , 'HouseStyle' , 'RoofStyle' , 'RoofMatl' , 'Exterior1st',\n",
    "             'Exterior2nd' , 'MasVnrType' , 'ExterQual' , 'ExterCond' , 'Foundation' , 'BsmtQual' , 'BsmtCond' ,\n",
    "             'BsmtExposure' , 'BsmtFinType1' , 'BsmtFinType2' , 'Heating' , 'HeatingQC' , 'CentralAir' , 'Electrical' ,\n",
    "             'KitchenQual' , 'Functional' , 'FireplaceQu' , 'GarageType' , 'GarageFinish' , 'GarageQual' , 'GarageCond' , \n",
    "             'PavedDrive' , 'PoolQC' , 'Fence' , 'MiscFeature' , 'SaleCondition','Id','SaleType'\n",
    "           ] , 1 , inplace = True)\n",
    "\n",
    "# ValueError: Input contains NaN, infinity or a value too large for dtype('float64').\n",
    "\n",
    "test = test.replace(0, np.NaN)     # mark zero values as missing or NaN\n",
    "test.fillna(0, inplace=True)\n",
    "#train.dropna(inplace=True)             # mark zero values as missing or NaN  .fillna(0) - df.fillna(0)\n",
    "print(test.shape)  \n",
    "\n",
    "test.columns = test.columns.str.lower()  # Solving Error : DataFrame' object has no attribute 'to_numeric\n",
    "\n",
    "\n",
    "test.replace('NA', -99999 , inplace =True)\n",
    "#train.drop (['Id'] , 1 , inplace = True)"
   ]
  },
  {
   "cell_type": "markdown",
   "metadata": {
    "collapsed": true
   },
   "source": [
    "#  Proceeding Functions"
   ]
  },
  {
   "cell_type": "code",
   "execution_count": 54,
   "metadata": {},
   "outputs": [],
   "source": [
    "x= np.array(train.drop(['saleprice'], 1))   # features\n",
    "y= np.array(train['saleprice'])             # target\n",
    "\n",
    "o = x_train, x_test , y_train, y_test = cross_validation.train_test_split(x,y,test_size=0.2)\n",
    "\n",
    "KNN = neighbors.KNeighborsRegressor()       # clf = neighbors.KNeighborsClassifier()"
   ]
  },
  {
   "cell_type": "code",
   "execution_count": 55,
   "metadata": {
    "collapsed": true
   },
   "outputs": [],
   "source": [
    "fit = KNN.fit(x_train, y_train)             # Fit - x , y Train\n",
    "predxTest = fit.predict(x_test)             # Predict - x Test"
   ]
  },
  {
   "cell_type": "code",
   "execution_count": 57,
   "metadata": {
    "collapsed": true
   },
   "outputs": [],
   "source": [
    "r2 = r2_score(y_test, predxTest)            # Score - Coefficient of determination\n",
    "mse = mean_squared_error(y_test, predxTest) # Mean Square Error"
   ]
  },
  {
   "cell_type": "code",
   "execution_count": 58,
   "metadata": {},
   "outputs": [
    {
     "name": "stdout",
     "output_type": "stream",
     "text": [
      "R2 Score Test - Accuracy Test :  0.656223906517\n",
      "Mean Square Error :  2413159478.9\n"
     ]
    }
   ],
   "source": [
    "print (\"R2 Score Test - Accuracy Test : \" , r2)\n",
    "print (\"Mean Square Error : \" , mse)"
   ]
  },
  {
   "cell_type": "code",
   "execution_count": 59,
   "metadata": {},
   "outputs": [
    {
     "name": "stdout",
     "output_type": "stream",
     "text": [
      "CV Score : Mean = 0.6383631 | Std = 0.01871396 | Min = 0.6180021 | Max = 0.6631857\n"
     ]
    }
   ],
   "source": [
    "cv = cross_validation.cross_val_score(KNN, x, y)\n",
    "print (\"CV Score : Mean = %.7g | Std = %.7g | Min = %.7g | Max = %.7g\" %\n",
    "      (np.mean(cv),np.std(cv),np.min(cv),np.max(cv)))"
   ]
  },
  {
   "cell_type": "markdown",
   "metadata": {},
   "source": [
    "# Predict Features by Data Test"
   ]
  },
  {
   "cell_type": "code",
   "execution_count": 53,
   "metadata": {},
   "outputs": [
    {
     "name": "stdout",
     "output_type": "stream",
     "text": [
      "prediction = [ 146800.  151500.  187500. ...,  176000.  115000.  274300.]\n"
     ]
    }
   ],
   "source": [
    "import pandas as pd\n",
    "import pylab as pl\n",
    "from sklearn.neighbors import KNeighborsClassifier\n",
    "\n",
    "features = ['mssubclass' , 'lotfrontage' , 'lotarea' ,'overallqual','overallcond','yearbuilt','yearremodadd',\n",
    "            'masvnrarea' , 'bsmtfinsf1' , 'bsmtfinsf2','bsmtunfsf','totalbsmtsf','1stflrsf','2ndflrsf',\n",
    "            'lowqualfinsf','grlivarea','bsmtfullbath','bsmthalfbath','fullbath','halfbath','bedroomabvgr',\n",
    "            'kitchenabvgr' , 'fireplaces' ,'garageyrblt' , 'garagearea' , 'wooddecksf' , 'openporchsf' , \n",
    "            'enclosedporch' , '3ssnporch' , 'screenporch' , 'poolarea' , 'miscval' , 'mosold' , 'yrsold']\n",
    "\n",
    "\n",
    "clf = neighbors.KNeighborsRegressor(n_neighbors=1)\n",
    "clf.fit(train[features], train['saleprice'])\n",
    "preds = clf.predict(test[features])\n",
    "\n",
    "print ('prediction =' , preds)\n",
    "\n"
   ]
  },
  {
   "cell_type": "code",
   "execution_count": 46,
   "metadata": {
    "collapsed": true
   },
   "outputs": [],
   "source": [
    "KNN.fit(train[features], train['saleprice'])\n",
    "predTest = KNN.predict(test[features])"
   ]
  },
  {
   "cell_type": "code",
   "execution_count": null,
   "metadata": {},
   "outputs": [],
   "source": [
    "r2 = r2_score(y_test, predTest)              # Score - Coefficient of determination\n",
    "#mse = mean_squared_error(y_test, predTest)   # Mean Square Error"
   ]
  },
  {
   "cell_type": "code",
   "execution_count": null,
   "metadata": {
    "collapsed": true
   },
   "outputs": [],
   "source": []
  },
  {
   "cell_type": "markdown",
   "metadata": {},
   "source": [
    "----------------------------------------------"
   ]
  },
  {
   "cell_type": "markdown",
   "metadata": {},
   "source": [
    "# Another Solution"
   ]
  },
  {
   "cell_type": "markdown",
   "metadata": {},
   "source": [
    "# Manipulate Data Train "
   ]
  },
  {
   "cell_type": "code",
   "execution_count": 6,
   "metadata": {},
   "outputs": [
    {
     "name": "stdout",
     "output_type": "stream",
     "text": [
      "(1460, 37)\n"
     ]
    }
   ],
   "source": [
    "df = pd.read_csv(\"D:/Master ML/1-First Semester/4- Data Analysis Tools/7-kaggle_practice/kaggle_practice/train.csv\")\n",
    "\n",
    "df.drop (['MSZoning' , 'Street' , 'Alley', 'LotShape', 'LandContour' , 'Utilities' , 'LotConfig' , 'LandSlope' , 'Neighborhood',\n",
    "            'Condition1' , 'Condition2', 'BldgType' , 'HouseStyle' , 'RoofStyle' , 'RoofMatl' , 'Exterior1st',\n",
    "             'Exterior2nd' , 'MasVnrType' , 'ExterQual' , 'ExterCond' , 'Foundation' , 'BsmtQual' , 'BsmtCond' ,\n",
    "             'BsmtExposure' , 'BsmtFinType1' , 'BsmtFinType2' , 'Heating' , 'HeatingQC' , 'CentralAir' , 'Electrical' ,\n",
    "             'KitchenQual' , 'Functional' , 'FireplaceQu' , 'GarageType' , 'GarageFinish' , 'GarageQual' , 'GarageCond' , \n",
    "             'PavedDrive' , 'PoolQC' , 'Fence' , 'MiscFeature' , 'SaleCondition','Id','SaleType'\n",
    "           ] , 1 , inplace = True)\n",
    "\n",
    "df = df.replace(0, np.NaN)     # mark zero values as missing or NaN\n",
    "df.fillna(0, inplace=True)\n",
    "#train.dropna(inplace=True)    # mark zero values as missing or NaN  .fillna(0) - df.fillna(0)\n",
    "print(df.shape)                # summarize the number of rows and columns in the dataset\n",
    "\n",
    "df.columns = df.columns.str.lower()  # Solving Error : DataFrame' object has no attribute 'to_numeric\n",
    "\n",
    "df.replace('NA', -99999 , inplace =True)"
   ]
  },
  {
   "cell_type": "markdown",
   "metadata": {},
   "source": [
    "# Accuracy Train , Predict Features in Test"
   ]
  },
  {
   "cell_type": "code",
   "execution_count": 18,
   "metadata": {},
   "outputs": [
    {
     "name": "stdout",
     "output_type": "stream",
     "text": [
      "Neighbors: 1, Accuracy: 0.686948\n",
      "Neighbors: 3, Accuracy: 0.686948\n",
      "Neighbors: 5, Accuracy: 0.196271\n",
      "Neighbors: 7, Accuracy: 0.000000\n",
      "Neighbors: 9, Accuracy: 0.098135\n",
      "Neighbors: 11, Accuracy: 0.000000\n",
      "Neighbors: 13, Accuracy: 0.000000\n",
      "Neighbors: 15, Accuracy: 0.000000\n",
      "Neighbors: 17, Accuracy: 0.000000\n",
      "Neighbors: 19, Accuracy: 0.098135\n",
      "Neighbors: 21, Accuracy: 0.000000\n",
      "Neighbors: 23, Accuracy: 0.000000\n"
     ]
    },
    {
     "data": {
      "image/png": "[encoded data removed]",
      "text/plain": [
       "<matplotlib.figure.Figure at 0x19d0a4f8c18>"
      ]
     },
     "metadata": {},
     "output_type": "display_data"
    }
   ],
   "source": [
    "import pandas as pd\n",
    "import pylab as pl\n",
    "from sklearn.neighbors import KNeighborsClassifier\n",
    "\n",
    "#df = pd.read_csv(\"https://s3.amazonaws.com/demo-datasets/wine.csv\")\n",
    "\n",
    "test_idx = np.random.uniform(0, 1, len(df)) <= 0.3\n",
    "train = df[test_idx==True]\n",
    "test = df[test_idx==False]\n",
    "\n",
    "\n",
    "features = ['mssubclass' , 'lotfrontage' , 'lotarea' ,'overallqual','overallcond','yearbuilt','yearremodadd',\n",
    "            'masvnrarea' , 'bsmtfinsf1' , 'bsmtfinsf2','bsmtunfsf','totalbsmtsf','1stflrsf','2ndflrsf',\n",
    "            'lowqualfinsf','grlivarea','bsmtfullbath','bsmthalfbath','fullbath','halfbath','bedroomabvgr',\n",
    "            'kitchenabvgr' , 'fireplaces' ,'garageyrblt' , 'garagearea' , 'wooddecksf' , 'openporchsf' , \n",
    "            'enclosedporch' , '3ssnporch' , 'screenporch' , 'poolarea' , 'miscval' , 'mosold' , 'yrsold']\n",
    "\n",
    "results = []\n",
    "for n in range(1, 25, 2):\n",
    "    clf = KNeighborsClassifier(n_neighbors=n)   #clf = neighbors.KNeighborsRegressor(n_neighbors=n)\n",
    "    \n",
    "    clf.fit(train[features], train['saleprice'])\n",
    "    preds = clf.predict(test[features])\n",
    "    accuracy = np.where(preds==test['saleprice'], 1, 0).sum() / float(len(test))*100\n",
    "    print (\"Neighbors: %d, Accuracy: %3f\" % (n, accuracy))\n",
    "\n",
    "    results.append([n, accuracy])\n",
    "\n",
    "results = pd.DataFrame(results, columns=[\"n\", \"accuracy\"])\n",
    "\n",
    "pl.plot(results.n, results.accuracy)\n",
    "pl.title(\"Accuracy with Increasing K\")\n",
    "pl.show()\n",
    "\n",
    "#pred = np.array(o)\n",
    "#pred = example_measures.reshape(1,-1)\n",
    "\n",
    "#prediction = clf.predict(pred)\n",
    "#print ('prediction =' , prediction)"
   ]
  },
  {
   "cell_type": "markdown",
   "metadata": {},
   "source": [
    "---------------------------------------------------------------------------"
   ]
  },
  {
   "cell_type": "markdown",
   "metadata": {},
   "source": [
    "---------------------------------------------------------------------------"
   ]
  },
  {
   "cell_type": "markdown",
   "metadata": {},
   "source": [
    "Note :\n",
    "-----\n",
    "This instructions shoud do for train and test sets for same represantation\n",
    "\n",
    "1. Find categorical features\n",
    "    - Transform it to quantitive representation (one of them):\n",
    "    \n",
    "        a) onehotencoding (sklearn);\n",
    "        \n",
    "        b) binarization (pandas.get_dummies);\n",
    "        \n",
    "        \n",
    "2. Quantitive features\n",
    "    - eliminate Nan values:\n",
    "    \n",
    "        a) replace for mean or median value;\n",
    "        \n",
    "        b) prediction for Nan values (I don't know exactly)\n",
    "        \n",
    "        \n",
    "    - find outliers for every quantitive feature (column) using some technic\n",
    "    \n",
    "        as example 3sigma rule(https://en.wikipedia.org/wiki/68–95–99.7_rule) - only for Normal distribution\n",
    "        \n",
    "    - eliminate outliers in data:\n",
    "    \n",
    "        replace for some adequate value (mean, median, max, min)\n",
    "    \n",
    "    also you can transform quantitive features to Normal distribution, if it isn't (sometimes it helps)\n",
    "    and scale to [0, 1] interval\n",
    "    \n",
    "3. Now we can try to learn some ML models\n",
    "    \n",
    "    - choose a model (as example kNN);\n",
    "    \n",
    "    - do cross-validation for fair results\n",
    "    \n",
    "Code example for cross-validation:\n",
    "\n",
    "from sklearn.neighbors import KNeighborsRegressor\n",
    "from sklearn.model_selection import GridSearchCV\n",
    "\n",
    "reg_knn = KNeighborsRegressor(n_jobs=-1)\n",
    "\n",
    "param_grid_knn = {\n",
    "    'n_neighbors':range(7, 9),\n",
    "    'p':range(2, 4)\n",
    "}\n",
    "\n",
    "reg_knn_cv = GridSearchCV(reg_knn, param_grid=param_grid_knn, cv=5, error_score='rmse', n_jobs=-1)\n",
    "\n",
    "reg_knn_cv.fit(X_train, y_train)\n",
    "\n",
    "reg_knn_cv.best_params_\n",
    "reg_knn_cv.best_score_"
   ]
  },
  {
   "cell_type": "code",
   "execution_count": null,
   "metadata": {
    "collapsed": true
   },
   "outputs": [],
   "source": []
  }
 ],
 "metadata": {
  "kernelspec": {
   "display_name": "Python 3",
   "language": "python",
   "name": "python3"
  },
  "language_info": {
   "codemirror_mode": {
    "name": "ipython",
    "version": 3
   },
   "file_extension": ".py",
   "mimetype": "text/x-python",
   "name": "python",
   "nbconvert_exporter": "python",
   "pygments_lexer": "ipython3",
   "version": "3.6.2"
  }
 },
 "nbformat": 4,
 "nbformat_minor": 2
}
