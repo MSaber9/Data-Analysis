{
 "cells": [
  {
   "cell_type": "markdown",
   "metadata": {},
   "source": [
    "# Gradient Boosting Machine - GBM"
   ]
  },
  {
   "cell_type": "code",
   "execution_count": 150,
   "metadata": {},
   "outputs": [],
   "source": [
    "import pandas as pd\n",
    "import numpy as np\n",
    "import matplotlib.pyplot as plt\n",
    "\n",
    "from sklearn.ensemble import GradientBoostingClassifier  #GBM algorithm\n",
    "from sklearn.ensemble import GradientBoostingRegressor\n",
    "\n",
    "from sklearn import cross_validation, metrics            #Additional scklearn functions\n",
    "from sklearn.grid_search import GridSearchCV             #Perforing grid search\n",
    "\n",
    "from sklearn.metrics import mean_squared_error,r2_score\n",
    "from sklearn.metrics import accuracy_score\n",
    "\n",
    "import matplotlib.pylab as pltlap\n",
    "%matplotlib inline\n",
    "from matplotlib.pylab import rcParams\n",
    "rcParams['figure.figsize'] = 12, 4"
   ]
  },
  {
   "cell_type": "markdown",
   "metadata": {},
   "source": [
    "# Manipulate Data"
   ]
  },
  {
   "cell_type": "code",
   "execution_count": 151,
   "metadata": {},
   "outputs": [
    {
     "name": "stdout",
     "output_type": "stream",
     "text": [
      "(1460, 37)\n"
     ]
    }
   ],
   "source": [
    "train = pd.read_csv(\"D:/Master ML/1-First Semester/4- Data Analysis Tools/7-kaggle_practice/kaggle_practice/train.csv\")\n",
    "\n",
    "train.drop (['MSZoning' , 'Street' , 'Alley', 'LotShape', 'LandContour' , 'Utilities' , 'LotConfig' , 'LandSlope' , 'Neighborhood',\n",
    "            'Condition1' , 'Condition2', 'BldgType' , 'HouseStyle' , 'RoofStyle' , 'RoofMatl' , 'Exterior1st',\n",
    "             'Exterior2nd' , 'MasVnrType' , 'ExterQual' , 'ExterCond' , 'Foundation' , 'BsmtQual' , 'BsmtCond' ,\n",
    "             'BsmtExposure' , 'BsmtFinType1' , 'BsmtFinType2' , 'Heating' , 'HeatingQC' , 'CentralAir' , 'Electrical' ,\n",
    "             'KitchenQual' , 'Functional' , 'FireplaceQu' , 'GarageType' , 'GarageFinish' , 'GarageQual' , 'GarageCond' , \n",
    "             'PavedDrive' , 'PoolQC' , 'Fence' , 'MiscFeature' , 'SaleCondition','Id','SaleType'\n",
    "            ] , 1 , inplace = True)\n",
    "\n",
    "\n",
    "train = train.replace(0, np.NaN)     # mark zero values as missing or NaN\n",
    "train.fillna(0, inplace=True)\n",
    "#train.dropna(inplace=True)          # mark zero values as missing or NaN  .fillna(0) - df.fillna(0)\n",
    "print(train.shape)                   # summarize the number of rows and columns in the dataset\n",
    "\n",
    "train.columns = train.columns.str.lower()  # Solving Error : DataFrame' object has no attribute 'to_numeric\n",
    "\n",
    "train.replace('NA', -99999 , inplace =True)"
   ]
  },
  {
   "cell_type": "markdown",
   "metadata": {
    "collapsed": true
   },
   "source": [
    "# Proceeding Functions"
   ]
  },
  {
   "cell_type": "code",
   "execution_count": 196,
   "metadata": {},
   "outputs": [],
   "source": [
    "x= np.array(train.drop(['saleprice'], 1))     # features - x\n",
    "y= np.array(train['saleprice'])               # target - y\n",
    "\n",
    "cv_score = x_train, x_test , y_train, y_test = cross_validation.train_test_split(x,y,test_size=0.2 , random_state = 2)\n",
    "\n",
    "params = {'n_estimators': 500, 'max_depth': 4, 'min_samples_split': 2, 'learning_rate': 0.01, 'loss': 'ls'}\n",
    "GMB = GradientBoostingRegressor(**params)"
   ]
  },
  {
   "cell_type": "code",
   "execution_count": 197,
   "metadata": {},
   "outputs": [],
   "source": [
    "fit = GMB.fit(x_train, y_train)                                  # Fit - x , y Train\n",
    "predxTest = fit.predict(x_test)                                  # Predict - x Test"
   ]
  },
  {
   "cell_type": "code",
   "execution_count": 198,
   "metadata": {},
   "outputs": [],
   "source": [
    "r2 = r2_score(y_test, predxTest)                                 # Score - Coefficient of determination\n",
    "mse = mean_squared_error(y_test, predxTest)                      # Mean Square Error"
   ]
  },
  {
   "cell_type": "code",
   "execution_count": 209,
   "metadata": {},
   "outputs": [
    {
     "name": "stdout",
     "output_type": "stream",
     "text": [
      "R2 Score Test - Accuracy Test :  0.891874617995\n",
      "Mean Square Error :  716034969.736\n"
     ]
    }
   ],
   "source": [
    "print (\"R2 Score Test - Accuracy Test : \" , r2)\n",
    "print (\"Mean Square Error : \" , mse)"
   ]
  },
  {
   "cell_type": "code",
   "execution_count": 212,
   "metadata": {},
   "outputs": [
    {
     "name": "stdout",
     "output_type": "stream",
     "text": [
      "CV Score : Mean = 0.8753821 | Std = 0.01831962 | Min = 0.8587843 | Max = 0.9009088\n"
     ]
    }
   ],
   "source": [
    "cv = cross_validation.cross_val_score(GMB, x, y)\n",
    "print (\"CV Score : Mean = %.7g | Std = %.7g | Min = %.7g | Max = %.7g\" %\n",
    "      (np.mean(cv),np.std(cv),np.min(cv),np.max(cv)))"
   ]
  },
  {
   "cell_type": "markdown",
   "metadata": {},
   "source": [
    "# Plot training deviance"
   ]
  },
  {
   "cell_type": "code",
   "execution_count": 173,
   "metadata": {},
   "outputs": [
    {
     "data": {
      "text/plain": [
       "<matplotlib.text.Text at 0x1eade9b94e0>"
      ]
     },
     "execution_count": 173,
     "metadata": {},
     "output_type": "execute_result"
    },
    {
     "data": {
      "image/png": "[encoded data removed]",
      "text/plain": [
       "<matplotlib.figure.Figure at 0x1eade70c780>"
      ]
     },
     "metadata": {},
     "output_type": "display_data"
    }
   ],
   "source": [
    "# Let's plot how does it behave the training and testing error -  Plot training deviance\n",
    "# compute test set deviance\n",
    "\n",
    "test_score = np.zeros((params['n_estimators'],), dtype=np.float64)\n",
    "\n",
    "for i, y_pred in enumerate(GMB.staged_predict(x_test)):\n",
    "    test_score[i] = GMB.loss_(y_test, y_pred)\n",
    "\n",
    "plt.figure(figsize=(12, 6))\n",
    "plt.subplot(1, 1, 1)\n",
    "\n",
    "plt.title('Deviance')\n",
    "plt.plot(np.arange(params['n_estimators']) + 1, GMB.train_score_, 'b-', label='Training Set Deviance')\n",
    "plt.plot(np.arange(params['n_estimators']) + 1, test_score, 'r-', label='Test Set Deviance')\n",
    "\n",
    "plt.legend(loc='upper right')\n",
    "plt.xlabel('Boosting Iterations')\n",
    "plt.ylabel('Deviance')"
   ]
  },
  {
   "cell_type": "markdown",
   "metadata": {},
   "source": [
    "# Plot feature importance"
   ]
  },
  {
   "cell_type": "code",
   "execution_count": 190,
   "metadata": {},
   "outputs": [
    {
     "data": {
      "image/png": "[encoded data removed]",
      "text/plain": [
       "<matplotlib.figure.Figure at 0x1eade5f8898>"
      ]
     },
     "metadata": {},
     "output_type": "display_data"
    }
   ],
   "source": [
    "feature_importance = GMB.feature_importances_\n",
    "# make importances relative to max importance\n",
    "\n",
    "feature_importance = 100.0 * (feature_importance / feature_importance.max())\n",
    "sorted_idx = np.argsort(feature_importance)\n",
    "pos = np.arange(sorted_idx.shape[0]) + .5\n",
    "\n",
    "plt.subplot(1, 1, 1)\n",
    "plt.barh(pos, feature_importance[sorted_idx], align='center')\n",
    "\n",
    "#plt.yticks(pos, train.fireplaces[sorted_idx])\n",
    "plt.xlabel('Relative Importance')\n",
    "plt.title('Variable Importance')\n",
    "plt.show()"
   ]
  },
  {
   "cell_type": "code",
   "execution_count": null,
   "metadata": {
    "collapsed": true
   },
   "outputs": [],
   "source": []
  },
  {
   "cell_type": "code",
   "execution_count": 245,
   "metadata": {},
   "outputs": [
    {
     "data": {
      "image/png": "[encoded data removed]",
      "text/plain": [
       "<matplotlib.figure.Figure at 0x1eadf4e29b0>"
      ]
     },
     "metadata": {},
     "output_type": "display_data"
    }
   ],
   "source": [
    "years = np.arange(2012, 2015)\n",
    "r2 = [2, 5, 9]\n",
    "mse = [7, 6, 3]\n",
    "\n",
    "plt.figure()\n",
    "\n",
    "plt.bar(years - 0.2, r2, color='blue', edgecolor='black', width=0.4, align='center', label='R2')\n",
    "plt.bar(years + 0.2, mse, color='red', edgecolor='black', width=0.4, align='center', label='MSE')\n",
    "plt.xticks(years, [str(year) for year in years])\n",
    "\n",
    "plt.legend();"
   ]
  },
  {
   "cell_type": "code",
   "execution_count": 243,
   "metadata": {},
   "outputs": [
    {
     "data": {
      "image/png": "[encoded data removed]",
      "text/plain": [
       "<matplotlib.figure.Figure at 0x1eadf115c18>"
      ]
     },
     "metadata": {},
     "output_type": "display_data"
    }
   ],
   "source": [
    "years = np.arange(2012, 2015)\n",
    "category1_values = [2, 5, 9]\n",
    "category2_values = [7, 6, 3]\n",
    "\n",
    "plt.figure()\n",
    "\n",
    "plt.bar(years - 0.2, category1_values, color='blue', edgecolor='black', width=0.4, align='center', label='R2')\n",
    "plt.bar(years + 0.2, category2_values, color='red', edgecolor='black', width=0.4, align='center', label='MSE')\n",
    "plt.xticks(years, [str(year) for year in years])\n",
    "\n",
    "plt.legend();"
   ]
  },
  {
   "cell_type": "code",
   "execution_count": null,
   "metadata": {
    "collapsed": true
   },
   "outputs": [],
   "source": []
  },
  {
   "cell_type": "markdown",
   "metadata": {},
   "source": [
    "Notes :\n",
    "---------\n",
    "Fit and predict :  \n",
    "--------------\n",
    "clf.fit(x_train, y_train)                       # Train the model using the training sets\n",
    "\n",
    "preds = regr.predict(x_train)                 # Make predictions using the testing set  -> y_pred\n",
    "\n",
    "You can using fit with param\n",
    "\n",
    "params = {'n_estimators': 1000, 'max_depth': 6,  'learning_rate': 0.1, 'loss': 'huber','alpha':0.95}\n",
    "\n",
    "fit = GMB(**params).fit(x_train, y_train)    - You can determind lenght\n",
    "\n",
    "predxTest = fit.predict(x_test)                  # OR RF.predict(test[features])\n",
    "\n",
    "\n",
    "score / r2 / accuracy :\n",
    "------------------------\n",
    "    \n",
    "1- Score = clf.score(x_test,y_test)             # Explained variance score: 1 is perfect prediction -> Accuracy\n",
    "\n",
    "2- AUC = accuracy_score(y_test, predxTest) - Not Working just with classification\n",
    "\n",
    "3- R2 = r2_score(y_test, predxTest)  - Working with Regressor\n",
    "\n",
    "Mse :\n",
    "----\n",
    "mse = mean_squared_error(y_test, predxTest)  - OR\n",
    "\n",
    "mseFull = np.mean((y_train - preds)**2) "
   ]
  }
 ],
 "metadata": {
  "kernelspec": {
   "display_name": "Python 3",
   "language": "python",
   "name": "python3"
  },
  "language_info": {
   "codemirror_mode": {
    "name": "ipython",
    "version": 3
   },
   "file_extension": ".py",
   "mimetype": "text/x-python",
   "name": "python",
   "nbconvert_exporter": "python",
   "pygments_lexer": "ipython3",
   "version": "3.6.2"
  }
 },
 "nbformat": 4,
 "nbformat_minor": 2
}
