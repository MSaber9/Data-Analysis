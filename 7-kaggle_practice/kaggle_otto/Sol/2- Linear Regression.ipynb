{
 "cells": [
  {
   "cell_type": "markdown",
   "metadata": {},
   "source": [
    " # Linear Regression"
   ]
  },
  {
   "cell_type": "code",
   "execution_count": 23,
   "metadata": {},
   "outputs": [],
   "source": [
    "import pandas as pd\n",
    "import numpy as np\n",
    "import matplotlib.pyplot as plt\n",
    "from sklearn import datasets, linear_model\n",
    "\n",
    "from sklearn.metrics import mean_squared_error, r2_score\n",
    "from sklearn import preprocessing, cross_validation, neighbors\n",
    "\n",
    "from sklearn.neighbors import KNeighborsClassifier"
   ]
  },
  {
   "cell_type": "markdown",
   "metadata": {},
   "source": [
    "# Manipulate Data Train"
   ]
  },
  {
   "cell_type": "code",
   "execution_count": 3,
   "metadata": {},
   "outputs": [
    {
     "name": "stdout",
     "output_type": "stream",
     "text": [
      "(1460, 37)\n"
     ]
    }
   ],
   "source": [
    "train = pd.read_csv(\"D:/Master ML/1-First Semester/4- Data Analysis Tools/7-kaggle_practice/kaggle_practice/train.csv\")\n",
    "\n",
    "train.drop (['MSZoning' , 'Street' , 'Alley', 'LotShape', 'LandContour' , 'Utilities' , 'LotConfig' , 'LandSlope' , 'Neighborhood',\n",
    "            'Condition1' , 'Condition2', 'BldgType' , 'HouseStyle' , 'RoofStyle' , 'RoofMatl' , 'Exterior1st',\n",
    "             'Exterior2nd' , 'MasVnrType' , 'ExterQual' , 'ExterCond' , 'Foundation' , 'BsmtQual' , 'BsmtCond' ,\n",
    "             'BsmtExposure' , 'BsmtFinType1' , 'BsmtFinType2' , 'Heating' , 'HeatingQC' , 'CentralAir' , 'Electrical' ,\n",
    "             'KitchenQual' , 'Functional' , 'FireplaceQu' , 'GarageType' , 'GarageFinish' , 'GarageQual' , 'GarageCond' , \n",
    "             'PavedDrive' , 'PoolQC' , 'Fence' , 'MiscFeature' , 'SaleCondition','Id','SaleType'\n",
    "            ] , 1 , inplace = True)\n",
    "\n",
    "\n",
    "train = train.replace(0, np.NaN)  # mark zero values as missing or NaN\n",
    "train.fillna(0, inplace=True)\n",
    "#train.dropna(inplace=True)       # mark zero values as missing or NaN  .fillna(0) - df.fillna(0)\n",
    "print(train.shape)                # summarize the number of rows and columns in the dataset\n",
    "\n",
    "train.columns = train.columns.str.lower()  # Solving Error : DataFrame' object has no attribute 'to_numeric\n",
    "\n",
    "train.replace('NA', -99999 , inplace =True)"
   ]
  },
  {
   "cell_type": "markdown",
   "metadata": {},
   "source": [
    "# Proceeding Functions"
   ]
  },
  {
   "cell_type": "code",
   "execution_count": 24,
   "metadata": {},
   "outputs": [],
   "source": [
    "x= np.array(train.drop(['saleprice'], 1))      # features\n",
    "y= np.array(train['saleprice'])                # target\n",
    "\n",
    "o = x_train, x_test , y_train, y_test = cross_validation.train_test_split(x,y,test_size=0.2 , random_state = 5)\n",
    "\n",
    "LR = linear_model.LinearRegression()"
   ]
  },
  {
   "cell_type": "code",
   "execution_count": 25,
   "metadata": {
    "collapsed": true
   },
   "outputs": [],
   "source": [
    "fit = LR.fit(x_train, y_train)                # Fit - x , y Train\n",
    "predxTest = fit.predict(x_test)               # Predict - x Test - y_pred"
   ]
  },
  {
   "cell_type": "code",
   "execution_count": 26,
   "metadata": {},
   "outputs": [],
   "source": [
    "r2 = r2_score(y_test, predxTest)              # Score - Coefficient of determination\n",
    "mse = mean_squared_error(y_test, predxTest)   # Mean Square Error"
   ]
  },
  {
   "cell_type": "code",
   "execution_count": 27,
   "metadata": {},
   "outputs": [
    {
     "name": "stdout",
     "output_type": "stream",
     "text": [
      "R2 Score Test - Accuracy Test :  0.829410384192\n",
      "Mean Square Error :  1107127732.24\n"
     ]
    }
   ],
   "source": [
    "print (\"R2 Score Test - Accuracy Test : \" , r2)\n",
    "print (\"Mean Square Error : \" , mse)"
   ]
  },
  {
   "cell_type": "code",
   "execution_count": 55,
   "metadata": {},
   "outputs": [
    {
     "name": "stdout",
     "output_type": "stream",
     "text": [
      "CV Score : Mean = 0.7826721 | Std = 0.06050657 | Min = 0.7026349 | Max = 0.8489033\n"
     ]
    }
   ],
   "source": [
    "cv = cross_validation.cross_val_score(LR, x, y)\n",
    "print (\"CV Score : Mean = %.7g | Std = %.7g | Min = %.7g | Max = %.7g\" %\n",
    "      (np.mean(cv),np.std(cv),np.min(cv),np.max(cv)))"
   ]
  },
  {
   "cell_type": "code",
   "execution_count": 19,
   "metadata": {},
   "outputs": [],
   "source": [
    "coefficients=  regr.coef_                     # a\n",
    "intercept = regr.intercept_                   # b"
   ]
  },
  {
   "cell_type": "code",
   "execution_count": 21,
   "metadata": {},
   "outputs": [
    {
     "name": "stdout",
     "output_type": "stream",
     "text": [
      "Coefficients: \n",
      " [ -1.82029730e+02  -3.18788989e+00   3.64582697e-01   1.77530084e+04\n",
      "   5.12974543e+03   3.44220552e+02   1.27660039e+02   1.74753362e+01\n",
      "   8.14285253e+00   2.50570457e+00  -1.16034784e+00   9.48820927e+00\n",
      "   1.07828911e+01   1.24318793e+01   3.19490429e+00   2.64096748e+01\n",
      "   1.00277573e+04  -2.14736377e+03   5.93918897e+03   2.46318392e+02\n",
      "  -1.04849735e+04  -1.57369449e+04   6.61487677e+03   5.46639201e+03\n",
      "  -1.63840402e+01   1.70606222e+04   8.16961271e+00   2.15558952e+01\n",
      "  -1.91196687e+01   2.16195630e+01   1.72092868e+01   7.88685999e+01\n",
      "  -5.46709777e+01  -2.87607928e+00   1.81218304e+02  -3.23804131e+02]\n",
      "\n",
      "Intercept:  -323556.522331\n"
     ]
    }
   ],
   "source": [
    "print('Coefficients: \\n', coefficients)                 # a = slope Coefficients\n",
    "print ('\\nIntercept: ' , intercept)                     # b = y-intercept"
   ]
  },
  {
   "cell_type": "code",
   "execution_count": 53,
   "metadata": {},
   "outputs": [
    {
     "data": {
      "image/png": "[encoded data removed]",
      "text/plain": [
       "<matplotlib.figure.Figure at 0x250b58ed2e8>"
      ]
     },
     "metadata": {},
     "output_type": "display_data"
    }
   ],
   "source": [
    "plt.scatter (LR.predict(x_train) , LR.predict(x_train) - y_train, c='b' , s=4 , alpha = .5)\n",
    "plt.scatter (LR.predict(x_test) , LR.predict(x_test) - y_test, c='b' , s=4 )\n",
    "plt.hlines(y=0 , xmin=0 , xmax=50)\n",
    "\n",
    "#plt.plot(x_test, predxTest, color='black', linewidth=1)\n",
    "#plt.xticks(())\n",
    "#plt.yticks(())\n",
    "\n",
    "plt.show()"
   ]
  },
  {
   "cell_type": "markdown",
   "metadata": {},
   "source": [
    "--------------------------------------------------------------------------------"
   ]
  },
  {
   "cell_type": "markdown",
   "metadata": {},
   "source": [
    "# # Another Example"
   ]
  },
  {
   "cell_type": "code",
   "execution_count": 29,
   "metadata": {},
   "outputs": [
    {
     "name": "stdout",
     "output_type": "stream",
     "text": [
      "Coefficients: \n",
      " [ 938.23786125]\n",
      "Mean squared error: 2548.07\n",
      "Variance score: 0.47\n"
     ]
    },
    {
     "data": {
      "image/png": "[encoded data removed]",
      "text/plain": [
       "<matplotlib.figure.Figure at 0x23fab10d080>"
      ]
     },
     "metadata": {},
     "output_type": "display_data"
    }
   ],
   "source": [
    "# Load the diabetes dataset\n",
    "diabetes = datasets.load_diabetes()\n",
    "#diabetes = train\n",
    "\n",
    "# Use only one feature\n",
    "diabetes_X = diabetes.data[:, np.newaxis, 2]\n",
    "\n",
    "# Split the data into training/testing sets\n",
    "diabetes_X_train = diabetes_X[:-20]\n",
    "diabetes_X_test = diabetes_X[-20:]\n",
    "\n",
    "# Split the targets into training/testing sets\n",
    "diabetes_y_train = diabetes.target[:-20]\n",
    "diabetes_y_test = diabetes.target[-20:]\n",
    "\n",
    "# Create linear regression object\n",
    "regr = linear_model.LinearRegression()\n",
    "\n",
    "# Train the model using the training sets\n",
    "regr.fit(diabetes_X_train, diabetes_y_train)\n",
    "\n",
    "# Make predictions using the testing set\n",
    "diabetes_y_pred = regr.predict(diabetes_X_test)\n",
    "\n",
    "# The coefficients\n",
    "print('Coefficients: \\n', regr.coef_)\n",
    "# The mean squared error\n",
    "print(\"Mean squared error: %.2f\"\n",
    "      % mean_squared_error(diabetes_y_test, diabetes_y_pred))\n",
    "# Explained variance score: 1 is perfect prediction\n",
    "print('Variance score: %.2f' % r2_score(diabetes_y_test, diabetes_y_pred))\n",
    "\n",
    "# Plot outputs\n",
    "plt.scatter(diabetes_X_test, diabetes_y_test,  color='black')\n",
    "plt.plot(diabetes_X_test, diabetes_y_pred, color='blue', linewidth=3)\n",
    "\n",
    "plt.xticks(())\n",
    "plt.yticks(())\n",
    "\n",
    "plt.show()"
   ]
  },
  {
   "cell_type": "code",
   "execution_count": null,
   "metadata": {
    "collapsed": true
   },
   "outputs": [],
   "source": []
  }
 ],
 "metadata": {
  "kernelspec": {
   "display_name": "Python 3",
   "language": "python",
   "name": "python3"
  },
  "language_info": {
   "codemirror_mode": {
    "name": "ipython",
    "version": 3
   },
   "file_extension": ".py",
   "mimetype": "text/x-python",
   "name": "python",
   "nbconvert_exporter": "python",
   "pygments_lexer": "ipython3",
   "version": "3.6.2"
  }
 },
 "nbformat": 4,
 "nbformat_minor": 2
}
